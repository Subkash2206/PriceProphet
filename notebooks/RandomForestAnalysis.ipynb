{
 "cells": [
  {
   "cell_type": "code",
   "execution_count": 11,
   "id": "02b663f0-c7ee-4d83-ba0c-cefa82132c68",
   "metadata": {},
   "outputs": [],
   "source": [
    "\n",
    "#old model"
   ]
  },
  {
   "cell_type": "code",
   "execution_count": 12,
   "id": "a5b46c86-b0bd-472f-a109-a6d985d559f9",
   "metadata": {},
   "outputs": [
    {
     "name": "stdout",
     "output_type": "stream",
     "text": [
      " Downloading data for: AAPL\n",
      "\n",
      "============================================================\n",
      " PREDICTION FOR AAPL - NEXT TRADING DAY\n",
      " The price is predicted to go: DOWN\n",
      " Confidence: 53.90%\n",
      "============================================================\n"
     ]
    },
    {
     "name": "stderr",
     "output_type": "stream",
     "text": [
      "/home/subhash/anaconda3/lib/python3.13/site-packages/sklearn/utils/validation.py:2749: UserWarning: X does not have valid feature names, but RandomForestClassifier was fitted with feature names\n",
      "  warnings.warn(\n",
      "/home/subhash/anaconda3/lib/python3.13/site-packages/sklearn/utils/validation.py:2749: UserWarning: X does not have valid feature names, but RandomForestClassifier was fitted with feature names\n",
      "  warnings.warn(\n"
     ]
    }
   ],
   "source": [
    "import numpy as np\n",
    "import pandas as pd\n",
    "import yfinance as yf\n",
    "from sklearn.ensemble import RandomForestClassifier\n",
    "from datetime import date\n",
    "\n",
    "def calculate_rsi(series, period=14):\n",
    "    delta = series.diff()\n",
    "    gain = (delta.where(delta > 0, 0)).rolling(window=period).mean()\n",
    "    loss = (-delta.where(delta < 0, 0)).rolling(window=period).mean()\n",
    "    rs = gain / loss\n",
    "    return 100 - (100 / (1 + rs))\n",
    "\n",
    "def calculate_ema(series, span):\n",
    "    return series.ewm(span=span, adjust=False).mean()\n",
    "\n",
    "def calculate_macd(series, fast=12, slow=26, signal=9):\n",
    "    ema_fast = calculate_ema(series, fast)\n",
    "    ema_slow = calculate_ema(series, slow)\n",
    "    macd_line = ema_fast - ema_slow\n",
    "    signal_line = calculate_ema(macd_line, signal)\n",
    "    return macd_line, signal_line\n",
    "\n",
    "def predict_stock_direction(ticker):\n",
    "    try:\n",
    "        print(f\" Downloading data for: {ticker}\")\n",
    "        data = yf.download(ticker, start=\"2020-01-01\", end=date.today(), progress=False, auto_adjust=False)\n",
    "\n",
    "        if data.empty:\n",
    "            print(\" No data returned. Please check the ticker symbol.\")\n",
    "            return\n",
    "\n",
    "        if isinstance(data.columns, pd.MultiIndex):\n",
    "            data.columns = ['_'.join(col).lower() for col in data.columns.values]\n",
    "        else:\n",
    "            data.columns = data.columns.str.lower()\n",
    "\n",
    "        expected = {\n",
    "            f'open_{ticker.lower()}': 'open',\n",
    "            f'high_{ticker.lower()}': 'high',\n",
    "            f'low_{ticker.lower()}': 'low',\n",
    "            f'close_{ticker.lower()}': 'close',\n",
    "            f'volume_{ticker.lower()}': 'volume',\n",
    "        }\n",
    "        data.rename(columns=expected, inplace=True)\n",
    "\n",
    "        required_cols = ['open', 'high', 'low', 'close', 'volume']\n",
    "        if not all(col in data.columns for col in required_cols):\n",
    "            return\n",
    "\n",
    "        data['rsi'] = calculate_rsi(data['close'], period=14)\n",
    "        macd_line, signal_line = calculate_macd(data['close'], fast=12, slow=26, signal=9)\n",
    "        data['macd'] = macd_line\n",
    "        data['ema_50'] = calculate_ema(data['close'], span=50)\n",
    "        data['ema_200'] = calculate_ema(data['close'], span=200)\n",
    "        data['ema_diff'] = data['ema_50'] - data['ema_200']\n",
    "        data['lag1_return'] = data['close'].pct_change().shift(1)\n",
    "        data['target'] = (data['close'].shift(-1) > data['close']).astype(int)\n",
    "        data.dropna(inplace=True)\n",
    "\n",
    "        features = ['open', 'high', 'low', 'close', 'volume', 'rsi', 'macd', 'ema_diff', 'lag1_return']\n",
    "        X = data[features]\n",
    "        y = data['target']\n",
    "\n",
    "        model = RandomForestClassifier(n_estimators=100, min_samples_split=50, random_state=42)\n",
    "        model.fit(X, y)\n",
    "\n",
    "        latest = X.iloc[-1].values.reshape(1, -1)\n",
    "        prediction = model.predict(latest)[0]\n",
    "        confidence = model.predict_proba(latest)[0][prediction]\n",
    "\n",
    "        direction = \"UP\" if prediction == 1 else \"DOWN\"\n",
    "\n",
    "        print(\"\\n\" + \"=\"*60)\n",
    "        print(f\" PREDICTION FOR {ticker.upper()} - NEXT TRADING DAY\")\n",
    "        print(f\" The price is predicted to go: {direction}\")\n",
    "        print(f\" Confidence: {confidence:.2%}\")\n",
    "        print(\"=\"*60)\n",
    "\n",
    "    except Exception as e:\n",
    "        print(f\" ERROR: {e}\")\n",
    "\n",
    "if __name__ == \"__main__\":\n",
    "    predict_stock_direction(\"AAPL\") #change the stock here\n"
   ]
  },
  {
   "cell_type": "code",
   "execution_count": null,
   "id": "bbe2422e-f79e-40ba-840f-a7772d34650d",
   "metadata": {},
   "outputs": [],
   "source": []
  }
 ],
 "metadata": {
  "kernelspec": {
   "display_name": "Python [conda env:base] *",
   "language": "python",
   "name": "conda-base-py"
  },
  "language_info": {
   "codemirror_mode": {
    "name": "ipython",
    "version": 3
   },
   "file_extension": ".py",
   "mimetype": "text/x-python",
   "name": "python",
   "nbconvert_exporter": "python",
   "pygments_lexer": "ipython3",
   "version": "3.13.5"
  }
 },
 "nbformat": 4,
 "nbformat_minor": 5
}
